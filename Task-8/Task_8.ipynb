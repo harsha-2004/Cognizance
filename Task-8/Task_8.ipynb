{
  "nbformat": 4,
  "nbformat_minor": 0,
  "metadata": {
    "colab": {
      "name": "Task-8",
      "provenance": [],
      "collapsed_sections": [],
      "toc_visible": true
    },
    "kernelspec": {
      "name": "python3",
      "display_name": "Python 3"
    },
    "language_info": {
      "name": "python"
    }
  },
  "cells": [
    {
      "cell_type": "code",
      "execution_count": null,
      "metadata": {
        "colab": {
          "base_uri": "https://localhost:8080/"
        },
        "id": "kVnPBDWiP2hw",
        "outputId": "c192a60c-6dbf-482b-8a88-47c0ef86130c"
      },
      "outputs": [
        {
          "output_type": "stream",
          "name": "stdout",
          "text": [
            "First number : 10\n",
            "last number : 14\n",
            "Original array: [10 11 12 13 14]\n",
            "\n",
            "New array:   [10.  0.  0.  0.  0.  0. 11.  0.  0.  0.  0.  0. 12.  0.  0.  0.  0.  0.\n",
            " 13.  0.  0.  0.  0.  0. 14.]\n"
          ]
        }
      ],
      "source": [
        "# Question - 1\n",
        "import numpy as np\n",
        "a=int(input(\"First number : \"))\n",
        "c=int(input(\"last number : \"))\n",
        "array1 = np.arange(a, c+1, 1)\n",
        "print(\"Original array:\",array1)\n",
        "b = 5\n",
        "array2 = np.zeros(len(array1) + (len(array1)-1)*(b))\n",
        "array2[::b+19] = array1\n",
        "print(\"\\nNew array:\",\" \",array2)"
      ]
    },
    {
      "cell_type": "code",
      "source": [
        "# Question - 2\n",
        "import numpy as np\n",
        "\n",
        "array1 = []\n",
        "a = int(input(\"Size of array:\"))\n",
        "for i in range(a):\n",
        "    array1.append(float(input(\"Element:\")))\n",
        "array1 = np.array(array1)\n",
        "print(np.floor(array1))\n",
        "\n",
        "array2=[]\n",
        "b = int(input(\"Size of array:\"))\n",
        "for i in range(b):\n",
        "    array2.append(float(input(\"Element:\")))\n",
        "array2 = np.array(array2)\n",
        "print(np.floor(array2))\n",
        "print()\n",
        "\n",
        "print(np.array_equal(array1,array2))"
      ],
      "metadata": {
        "id": "FabneoiOTkcD",
        "colab": {
          "base_uri": "https://localhost:8080/"
        },
        "outputId": "9eb20a6b-5d41-4f94-d751-7df6aa9d8802"
      },
      "execution_count": null,
      "outputs": [
        {
          "output_type": "stream",
          "name": "stdout",
          "text": [
            "Size of array:4\n",
            "Element:5\n",
            "Element:4\n",
            "Element:3\n",
            "Element:1\n",
            "[5. 4. 3. 1.]\n",
            "Size of array:4\n",
            "Element:6\n",
            "Element:4\n",
            "Element:3\n",
            "Element:1\n",
            "[6. 4. 3. 1.]\n",
            "False\n"
          ]
        }
      ]
    },
    {
      "cell_type": "code",
      "source": [
        "# Question -3 \n",
        "import numpy as np\n",
        "print(0 * np.nan)\n",
        "print(np.nan != np.nan)\n",
        "print(np.inf > np.nan)\n",
        "print(np.nan - np.nan)\n",
        "print(0.3 == 3 * 0.1) "
      ],
      "metadata": {
        "colab": {
          "base_uri": "https://localhost:8080/"
        },
        "id": "mCbCEDDtZLLe",
        "outputId": "6951abc2-a959-44f0-c1de-04f27ab27f2b"
      },
      "execution_count": null,
      "outputs": [
        {
          "output_type": "stream",
          "name": "stdout",
          "text": [
            "nan\n",
            "True\n",
            "False\n",
            "nan\n",
            "False\n"
          ]
        }
      ]
    },
    {
      "cell_type": "code",
      "source": [
        "# Question - 4\n",
        "import pandas as pd\n",
        "ser = pd.Series(['amrita', 'school', 'of', 'engineering' 'chennai' , 'campus'])\n",
        "ser= ser.str.capitalize()\n",
        "print(ser)"
      ],
      "metadata": {
        "id": "SkJCZVzvaN4k",
        "colab": {
          "base_uri": "https://localhost:8080/"
        },
        "outputId": "76a3ecec-15d3-4a4e-e637-b3a024aab99e"
      },
      "execution_count": 10,
      "outputs": [
        {
          "output_type": "stream",
          "name": "stdout",
          "text": [
            "0                Amrita\n",
            "1                School\n",
            "2                    Of\n",
            "3    Engineeringchennai\n",
            "4                Campus\n",
            "dtype: object\n"
          ]
        }
      ]
    },
    {
      "cell_type": "code",
      "source": [
        "# Question - 5\n",
        "# Addition of Arrays    \n",
        "import numpy as np\n",
        "\n",
        "array1 = np.array([1, 2, 3, 4])\n",
        "array2 = np.array([5, 6, 7, 8])\n",
        "\n",
        "print (\" array1 : \", array1)\n",
        "print (\" array2 : \", array2)\n",
        "\t\n",
        "add = np.add(array1, array2)\n",
        "print (\" addition of two arrays : \", add,\"\\n\")\n",
        "\n"
      ],
      "metadata": {
        "colab": {
          "base_uri": "https://localhost:8080/"
        },
        "id": "oTiOLffvdeOI",
        "outputId": "4c5a4a03-cf2c-4de6-d8a6-43790df8fa52"
      },
      "execution_count": 12,
      "outputs": [
        {
          "output_type": "stream",
          "name": "stdout",
          "text": [
            " array1 :  [1 2 3 4]\n",
            " array2 :  [5 6 7 8]\n",
            " addition of two arrays :  [ 6  8 10 12] \n",
            "\n"
          ]
        }
      ]
    },
    {
      "cell_type": "code",
      "source": [
        "# Multiplying a matrix\n",
        "import numpy as np\n",
        "# two dimensional arrays\n",
        "matrix1 = np.array([[1,2,3],[4,5,6]])\n",
        "matrix2 = np.array([[7,8],[9,0],[5,6]])\n",
        "matrix = np.dot(matrix1,matrix2) \n",
        "print(matrix) "
      ],
      "metadata": {
        "colab": {
          "base_uri": "https://localhost:8080/"
        },
        "id": "D0t52kTVglgk",
        "outputId": "3cb7b301-f5f5-48ac-e779-6c59f1579ff7"
      },
      "execution_count": 13,
      "outputs": [
        {
          "output_type": "stream",
          "name": "stdout",
          "text": [
            "[[ 40  26]\n",
            " [103  68]]\n"
          ]
        }
      ]
    }
  ]
}